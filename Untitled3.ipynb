{
  "nbformat": 4,
  "nbformat_minor": 0,
  "metadata": {
    "colab": {
      "name": "Untitled3.ipynb",
      "provenance": []
    },
    "kernelspec": {
      "name": "python3",
      "display_name": "Python 3"
    },
    "language_info": {
      "name": "python"
    }
  },
  "cells": [
    {
      "cell_type": "code",
      "metadata": {
        "id": "3cSSjWKylQxZ"
      },
      "source": [
        "class node:\n",
        "    def __init__(self, data=None):\n",
        "        self.data = data\n",
        "        self.next = None\n",
        "    \n",
        "\n",
        "class linkedlist:\n",
        "    def __init__(self):\n",
        "        self.head = node()\n",
        "  \n",
        "    def append(self, data):\n",
        "        if self.head.data == None:\n",
        "            self.head.data = data\n",
        "        else:\n",
        "            new_node = node(data)\n",
        "            curr = self.head\n",
        "        while curr.next!=None:\n",
        "            curr = curr.next\n",
        "        curr.next = new_node\n",
        "\n",
        "    def add_before(self, data):\n",
        "        if self.head.data == None:\n",
        "            self.head.data = data\n",
        "        else:\n",
        "            new_node = node(data)\n",
        "            curr = self.head\n",
        "            self.head = new_node\n",
        "            self.head.next = curr\n",
        "  \n",
        "    \n",
        "    def display(self):\n",
        "        curr = self.head\n",
        "        dis = []\n",
        "        while curr.next!=None:\n",
        "            curr = curr.next\n",
        "            dis.append(curr.data)\n",
        "        print(dis)\n",
        "  \n",
        "    def delete(self):\n",
        "        curr = self.head\n",
        "        while curr.next.next:\n",
        "            scnd_last = curr.next\n",
        "            curr = curr.next\n",
        "        curr.next = None\n",
        "\n",
        "    def insert(self , data , index):\n",
        "        if self.head.data == None:\n",
        "            self.head.data = data\n",
        "        else:\n",
        "            new_node = node(data)\n",
        "            curr = self.head\n",
        "        if index == 0:\n",
        "            new_node.next = self.head\n",
        "            self.head = new_node\n",
        "        count = 0\n",
        "        curr = self.head\n",
        "        while curr is not None:\n",
        "            if count == index-1:\n",
        "                new_node.next = curr.next\n",
        "                curr.next = new_node\n",
        "                break\n",
        "            #print(\"curr:\" , curr)\n",
        "            curr = curr.next\n",
        "            count= count + 1\n",
        "\n",
        "    def length(self):\n",
        "        len = 0\n",
        "        curr = self.head\n",
        "        if self.head!= None:\n",
        "            len = 1\n",
        "        while curr.next!= None:\n",
        "            len = len +1\n",
        "            curr = curr.next\n",
        "        print(len)"
      ],
      "execution_count": 3,
      "outputs": []
    },
    {
      "cell_type": "code",
      "metadata": {
        "id": "hyRh7ci7l3Re"
      },
      "source": [
        "mylist = linkedlist()"
      ],
      "execution_count": 4,
      "outputs": []
    },
    {
      "cell_type": "code",
      "metadata": {
        "id": "KHw-uYz_mDK9"
      },
      "source": [
        "mylist.append(8)\n",
        "mylist.append(7)\n",
        "mylist.append(9)\n",
        "mylist.append(11)"
      ],
      "execution_count": 6,
      "outputs": []
    },
    {
      "cell_type": "code",
      "metadata": {
        "colab": {
          "base_uri": "https://localhost:8080/"
        },
        "id": "-JX2Vk84mE2h",
        "outputId": "2ae553fc-93fc-4a45-d636-69633c4cf40a"
      },
      "source": [
        "mylist.display()"
      ],
      "execution_count": 7,
      "outputs": [
        {
          "output_type": "stream",
          "name": "stdout",
          "text": [
            "[8, 7, 9, 11]\n"
          ]
        }
      ]
    },
    {
      "cell_type": "code",
      "metadata": {
        "id": "3iO_uEj9mIrX"
      },
      "source": [
        "mylist.delete()"
      ],
      "execution_count": 8,
      "outputs": []
    },
    {
      "cell_type": "code",
      "metadata": {
        "colab": {
          "base_uri": "https://localhost:8080/"
        },
        "id": "Wf4j7q3-mNPQ",
        "outputId": "5de48341-f149-4e00-af61-49dbb9b43069"
      },
      "source": [
        "mylist.display()"
      ],
      "execution_count": 9,
      "outputs": [
        {
          "output_type": "stream",
          "name": "stdout",
          "text": [
            "[8, 7, 9]\n"
          ]
        }
      ]
    },
    {
      "cell_type": "code",
      "metadata": {
        "id": "6NKDjeObmUOW"
      },
      "source": [
        "mylist.add_before(8)"
      ],
      "execution_count": 10,
      "outputs": []
    },
    {
      "cell_type": "code",
      "metadata": {
        "colab": {
          "base_uri": "https://localhost:8080/"
        },
        "id": "vFsTliwimWJG",
        "outputId": "b3491ae4-c308-4baf-b2b5-7d1438e5ae84"
      },
      "source": [
        "mylist.display()"
      ],
      "execution_count": 11,
      "outputs": [
        {
          "output_type": "stream",
          "name": "stdout",
          "text": [
            "[8, 8, 7, 9]\n"
          ]
        }
      ]
    },
    {
      "cell_type": "code",
      "metadata": {
        "colab": {
          "base_uri": "https://localhost:8080/"
        },
        "id": "-lTZMKYumaQ0",
        "outputId": "6e82d8d7-b9a1-4f1e-ac31-b51ebbd263b0"
      },
      "source": [
        "mylist.length()"
      ],
      "execution_count": 12,
      "outputs": [
        {
          "output_type": "stream",
          "name": "stdout",
          "text": [
            "5\n"
          ]
        }
      ]
    },
    {
      "cell_type": "code",
      "metadata": {
        "id": "EYjE13EzmgJ5"
      },
      "source": [
        "mylist.insert(5,3)  "
      ],
      "execution_count": 13,
      "outputs": []
    },
    {
      "cell_type": "code",
      "metadata": {
        "colab": {
          "base_uri": "https://localhost:8080/"
        },
        "id": "knrJXTgVmiKb",
        "outputId": "9e87e36c-d1e1-4780-f4a8-cf823ab27ff9"
      },
      "source": [
        "mylist.display()"
      ],
      "execution_count": 14,
      "outputs": [
        {
          "output_type": "stream",
          "name": "stdout",
          "text": [
            "[8, 8, 5, 7, 9]\n"
          ]
        }
      ]
    }
  ]
}